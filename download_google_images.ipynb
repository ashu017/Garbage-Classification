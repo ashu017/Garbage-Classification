{
  "nbformat": 4,
  "nbformat_minor": 0,
  "metadata": {
    "colab": {
      "name": "download google images.ipynb",
      "version": "0.3.2",
      "provenance": [],
      "include_colab_link": true
    },
    "kernelspec": {
      "name": "python3",
      "display_name": "Python 3"
    }
  },
  "cells": [
    {
      "cell_type": "markdown",
      "metadata": {
        "id": "view-in-github",
        "colab_type": "text"
      },
      "source": [
        "<a href=\"https://colab.research.google.com/github/ashu017/Garbage-Classification/blob/master/download_google_images.ipynb\" target=\"_parent\"><img src=\"https://colab.research.google.com/assets/colab-badge.svg\" alt=\"Open In Colab\"/></a>"
      ]
    },
    {
      "cell_type": "code",
      "metadata": {
        "id": "npwsslX71MME",
        "colab_type": "code",
        "outputId": "4e38a5a6-b34b-4065-e8aa-be235edc2c3c",
        "colab": {
          "base_uri": "https://localhost:8080/",
          "height": 122
        }
      },
      "source": [
        "from google.colab import drive\n",
        "drive.mount(\"/content/gdrive\")"
      ],
      "execution_count": 0,
      "outputs": [
        {
          "output_type": "stream",
          "text": [
            "Go to this URL in a browser: https://accounts.google.com/o/oauth2/auth?client_id=947318989803-6bn6qk8qdgf4n4g3pfee6491hc0brc4i.apps.googleusercontent.com&redirect_uri=urn%3Aietf%3Awg%3Aoauth%3A2.0%3Aoob&scope=email%20https%3A%2F%2Fwww.googleapis.com%2Fauth%2Fdocs.test%20https%3A%2F%2Fwww.googleapis.com%2Fauth%2Fdrive%20https%3A%2F%2Fwww.googleapis.com%2Fauth%2Fdrive.photos.readonly%20https%3A%2F%2Fwww.googleapis.com%2Fauth%2Fpeopleapi.readonly&response_type=code\n",
            "\n",
            "Enter your authorization code:\n",
            "··········\n",
            "Mounted at /content/gdrive\n"
          ],
          "name": "stdout"
        }
      ]
    },
    {
      "cell_type": "code",
      "metadata": {
        "id": "C_Rn64ef1RcR",
        "colab_type": "code",
        "outputId": "7685b963-3512-409e-db13-30e226d45e6a",
        "colab": {
          "base_uri": "https://localhost:8080/",
          "height": 241
        }
      },
      "source": [
        "!pip install google_images_download"
      ],
      "execution_count": 0,
      "outputs": [
        {
          "output_type": "stream",
          "text": [
            "Collecting google_images_download\n",
            "  Downloading https://files.pythonhosted.org/packages/18/ed/0319d30c48f3653802da8e6dcfefcea6370157d10d566ef6807cceb5ec4d/google_images_download-2.8.0.tar.gz\n",
            "Collecting selenium (from google_images_download)\n",
            "\u001b[?25l  Downloading https://files.pythonhosted.org/packages/80/d6/4294f0b4bce4de0abf13e17190289f9d0613b0a44e5dd6a7f5ca98459853/selenium-3.141.0-py2.py3-none-any.whl (904kB)\n",
            "\u001b[K     |████████████████████████████████| 911kB 4.2MB/s \n",
            "\u001b[?25hRequirement already satisfied: urllib3 in /usr/local/lib/python3.6/dist-packages (from selenium->google_images_download) (1.24.3)\n",
            "Building wheels for collected packages: google-images-download\n",
            "  Building wheel for google-images-download (setup.py) ... \u001b[?25l\u001b[?25hdone\n",
            "  Stored in directory: /root/.cache/pip/wheels/1f/28/ad/f56e7061e1d2a9a1affe2f9c649c2570cb9198dd24ede0bbab\n",
            "Successfully built google-images-download\n",
            "Installing collected packages: selenium, google-images-download\n",
            "Successfully installed google-images-download-2.8.0 selenium-3.141.0\n"
          ],
          "name": "stdout"
        }
      ]
    },
    {
      "cell_type": "code",
      "metadata": {
        "id": "_w3R6xqd2VzU",
        "colab_type": "code",
        "outputId": "abab82f8-2597-4a77-eb7e-6e74c775dfb2",
        "colab": {
          "base_uri": "https://localhost:8080/",
          "height": 581
        }
      },
      "source": [
        "# importing google_images_download module \n",
        "from google_images_download import google_images_download \n",
        "\n",
        "# creating object \n",
        "response = google_images_download.googleimagesdownload() \n",
        "\n",
        "search_queries = ['waste plastic bottle'] \n",
        "\n",
        "\n",
        "def downloadimages(query): \n",
        "\t# keywords is the search query \n",
        "\t# format is the image file format \n",
        "\t# limit is the number of images to be downloaded \n",
        "\t# print urs is to print the image file url \n",
        "\t# size is the image size which can \n",
        "\t# be specified manually (\"large, medium, icon\") \n",
        "\t# aspect ratio denotes the height width ratio \n",
        "\t# of images to download. (\"tall, square, wide, panoramic\") \n",
        "\targuments = {\"keywords\": query, \n",
        "\t\t\t\t\"format\": \"jpg\", \n",
        "\t\t\t\t\"limit\":10, \n",
        "\t\t\t\t\"print_urls\":True, \n",
        "\t\t\t\t\"size\": \"medium\", \n",
        "\t\t\t\t\"aspect_ratio\": \"panoramic\"} \n",
        "\ttry: \n",
        "\t\tresponse.download(arguments) \n",
        "\t\n",
        "\t# Handling File NotFound Error\t \n",
        "\texcept FileNotFoundError: \n",
        "\t\targuments = {\"keywords\": query, \n",
        "\t\t\t\t\t\"format\": \"jpg\", \n",
        "\t\t\t\t\t\"limit\":4, \n",
        "\t\t\t\t\t\"print_urls\":True, \n",
        "\t\t\t\t\t\"size\": \"medium\"} \n",
        "\t\t\t\t\t\n",
        "\t\t# Providing arguments for the searched query \n",
        "\t\ttry: \n",
        "\t\t\t# Downloading the photos based \n",
        "\t\t\t# on the given arguments \n",
        "\t\t\tresponse.download(arguments) \n",
        "\t\texcept: \n",
        "\t\t\tpass\n",
        "\n",
        "# Driver Code \n",
        "for query in search_queries: \n",
        "\tdownloadimages(query) \n",
        "\tprint() \n"
      ],
      "execution_count": 0,
      "outputs": [
        {
          "output_type": "stream",
          "text": [
            "\n",
            "Item no.: 1 --> Item name = waste plastic bottle\n",
            "Evaluating...\n",
            "Starting Download...\n",
            "Image URL: https://inhabitat.com/wp-content/blogs.dir/1/files/2016/08/Bales_of_PET_bottles_3-1020x400.jpg\n",
            "Completed Image ====> 1.Bales_of_PET_bottles_3-1020x400.jpg\n",
            "Image URL: https://www.springwellwater.com/wp-content/uploads/2018/09/plastic-bottles-waste-1200x600.jpg\n",
            "Completed Image ====> 2.plastic-bottles-waste-1200x600.jpg\n",
            "Image URL: https://www.star2.com/wp-content/uploads/2018/03/human2503-1170x480.jpg\n",
            "Completed Image ====> 3.human2503-1170x480.jpg\n",
            "Image URL: https://www.brightwaste.com/production/wp-content/uploads/waste-plastic-bottles_m_85519002-1400x664-1024x485.jpg\n",
            "Completed Image ====> 4.waste-plastic-bottles_m_85519002-1400x664-1024x485.jpg\n",
            "Image URL: https://s.abcnews.com/images/US/plastic-waste-02-gty-jc-180517_hpMain_12x5_992.jpg\n",
            "Completed Image ====> 5.plastic-waste-02-gty-jc-180517_hpMain_12x5_992.jpg\n",
            "Image URL: https://www.energy-reporters.com/wp-content/uploads/thumbs/10738399008_IMG_6199-e1548679491647-37uqyfk2fmcees6x7xtybk.jpeg\n",
            "Wrong image format returned. Skipping...\n",
            "Image URL: https://db0ip7zd23b50.cloudfront.net/dims4/default/5e2bfc7/2147483647/legacy_thumbnail/960x369%3E/quality/90/?url=http%3A%2F%2Fbloomberg-bna-brightspot.s3.amazonaws.com%2Ff0%2Fa4%2F0ea5bdfa4ab8a30b0a38442ffb33%2Fgettyimages-1022409182.jpg\n",
            "Wrong image format returned. Skipping...\n",
            "Image URL: https://theecologist.org/sites/default/files/styles/twitter/public/2019-04/recycled-plastic-bottles.jpg?h=6cc8e4fc&itok=eDByDy4W\n",
            "Completed Image ====> 6.recycled-plastic-bottles.jpg\n",
            "Image URL: https://awokonthewildside.files.wordpress.com/2017/05/imgp0063-1.jpg?w=1400&h=400&crop=1\n",
            "Completed Image ====> 7.imgp0063-1.jpg\n",
            "Image URL: https://www.bbcgoodfood.com/sites/default/files/guide/guide-image/2018/01/plastic-bottles-in-water_0.jpg\n",
            "Completed Image ====> 8.plastic-bottles-in-water_0.jpg\n",
            "Image URL: https://www.sustainability-times.com/wp-content/uploads/thumbs/plastic-water-bottles-1416488847t7g-371emm2210hje1llcfwxds.jpg\n",
            "Completed Image ====> 9.plastic-water-bottles-1416488847t7g-371emm2210hje1llcfwxds.jpg\n",
            "Image URL: https://hips.hearstapps.com/hmg-prod.s3.amazonaws.com/images/plastic-bottles-garbage-floating-in-indian-high-res-stock-photography-888264036-1553018318.jpg?crop=1xw:0.75xh;center,top&resize=1200:*\n",
            "Completed Image ====> 10.plastic-bottles-garbage-floating-in-indian-high-res-stock-photography-888264036-1553018318.jpg\n",
            "\n",
            "Errors: 2\n",
            "\n",
            "\n"
          ],
          "name": "stdout"
        }
      ]
    },
    {
      "cell_type": "code",
      "metadata": {
        "id": "QgJiKweO3gdV",
        "colab_type": "code",
        "colab": {}
      },
      "source": [
        ""
      ],
      "execution_count": 0,
      "outputs": []
    }
  ]
}